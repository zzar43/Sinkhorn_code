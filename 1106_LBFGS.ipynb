{
 "cells": [
  {
   "cell_type": "code",
   "execution_count": null,
   "metadata": {},
   "outputs": [
    {
     "name": "stderr",
     "output_type": "stream",
     "text": [
      "OpenBLAS blas_thread_init: pthread_create failed for thread 1 of 8: Resource temporarily unavailable\n",
      "OpenBLAS blas_thread_init: RLIMIT_NPROC 1024 current, 1024 max\n",
      "OpenBLAS blas_thread_init: pthread_create failed for thread 2 of 8: Resource temporarily unavailable\n",
      "OpenBLAS blas_thread_init: RLIMIT_NPROC 1024 current, 1024 max\n",
      "OpenBLAS blas_thread_init: pthread_create failed for thread 3 of 8: Resource temporarily unavailable\n",
      "OpenBLAS blas_thread_init: RLIMIT_NPROC 1024 current, 1024 max\n",
      "OpenBLAS blas_thread_init: pthread_create failed for thread 4 of 8: Resource temporarily unavailable\n",
      "OpenBLAS blas_thread_init: RLIMIT_NPROC 1024 current, 1024 max\n",
      "OpenBLAS blas_thread_init: pthread_create failed for thread 5 of 8: Resource temporarily unavailable\n",
      "OpenBLAS blas_thread_init: RLIMIT_NPROC 1024 current, 1024 max\n",
      "OpenBLAS blas_thread_init: pthread_create failed for thread 6 of 8: Resource temporarily unavailable\n",
      "OpenBLAS blas_thread_init: RLIMIT_NPROC 1024 current, 1024 max\n",
      "OpenBLAS blas_thread_init: pthread_create failed for thread 7 of 8: Resource temporarily unavailable\n",
      "OpenBLAS blas_thread_init: RLIMIT_NPROC 1024 current, 1024 max\n"
     ]
    }
   ],
   "source": [
    "using Distributed\n",
    "using SharedArrays\n",
    "addprocs(11);"
   ]
  },
  {
   "cell_type": "code",
   "execution_count": null,
   "metadata": {},
   "outputs": [],
   "source": [
    "@everywhere include(\"inverse_prob.jl\")\n",
    "@everywhere using PyPlot\n",
    "@everywhere using DSP"
   ]
  },
  {
   "cell_type": "code",
   "execution_count": null,
   "metadata": {},
   "outputs": [],
   "source": [
    "@eval @everywhere begin\n",
    "    Nx = 201;\n",
    "    Ny = 201;\n",
    "    h = 0.005;\n",
    "    x = range(0,step=h,length=Nx)\n",
    "    y = range(0,step=h,length=Ny)\n",
    "\n",
    "    Fs = 600;\n",
    "    dt = 1/Fs\n",
    "    Nt = 1200;\n",
    "    t = range(0, length=Nt, step=dt)\n",
    "\n",
    "    source = source_ricker(10, 0.15, t)\n",
    "    f = digitalfilter(Lowpass(2, fs = Fs), FIRWindow(hamming(61)))\n",
    "    source = conv(source,f)\n",
    "    source = source[31:end-30]\n",
    "    source = source./ maximum(source)\n",
    "    \n",
    "    source_position = zeros(11,2)\n",
    "    for i = 1:11\n",
    "        source_position[i,:] = [1 20*(i-1)+1]\n",
    "#         source_position[i,:] = [1 101]\n",
    "    end\n",
    "    source = repeat(source, 1, 11)\n",
    "\n",
    "    receiver_position = zeros(51,2)\n",
    "    for i = 1:51\n",
    "        receiver_position[i,:] = [201, (i-1)*4+1]\n",
    "    end\n",
    "#     for i = 52:101\n",
    "#         receiver_position[i,:] = [101, (i-51)*2+1]\n",
    "#     end\n",
    "\n",
    "    c0 = 1*ones(Nx, Ny)\n",
    "    rho0 = ones(Nx, Ny)\n",
    "    for i = 1:Nx\n",
    "        for j = 1:Ny\n",
    "            if sqrt((x[i]-0.5).^2 + (y[j]-0.5).^2) < 0.33\n",
    "                c0[i,j] = 1.2\n",
    "            end\n",
    "        end\n",
    "    end\n",
    "#     c0[50:end,:] .= 1.2\n",
    "\n",
    "    c = 1*ones(Nx, Ny)\n",
    "#     c[1:end,:] = imfilter(c0[1:end,:], Kernel.gaussian(10));\n",
    "    rho = ones(Nx, Ny);\n",
    "end\n",
    "figure\n",
    "subplot(121)\n",
    "imshow(c); colorbar(shrink=0.3); title(\"c\"); \n",
    "scatter(source_position[:,2].-1, source_position[:,1].-1, alpha=0.5)\n",
    "scatter(receiver_position[:,2].-1, receiver_position[:,1].-1, alpha=0.5)\n",
    "subplot(122)\n",
    "imshow(c0); colorbar(shrink=0.3); title(\"c0\"); \n",
    "scatter(source_position[:,2].-1, source_position[:,1].-1, alpha=0.5)\n",
    "scatter(receiver_position[:,2].-1, receiver_position[:,1].-1, alpha=0.5)\n",
    "tight_layout()"
   ]
  },
  {
   "cell_type": "code",
   "execution_count": null,
   "metadata": {},
   "outputs": [],
   "source": [
    "M = cost_matrix_1d(t,t; p=2)\n",
    "reg = 1e-5\n",
    "reg_m = 1e0\n",
    "reg_p = 0.5\n",
    "iterMax = 1000;\n",
    "\n",
    "save_ratio = 10;\n",
    "pml_len = 30;\n",
    "pml_coef = 100;"
   ]
  },
  {
   "cell_type": "code",
   "execution_count": null,
   "metadata": {},
   "outputs": [],
   "source": [
    "@time data, u = multi_solver_parallel(c, rho, Nx, Ny, Nt, h, dt, source, source_position, receiver_position; pml_len=pml_len, pml_coef=pml_coef, save_ratio=save_ratio);\n",
    "\n",
    "@time data0, u0 = multi_solver_parallel(c0, rho0, Nx, Ny, Nt, h, dt, source, source_position, receiver_position; pml_len=pml_len, pml_coef=pml_coef, save_ratio=save_ratio);\n"
   ]
  },
  {
   "cell_type": "code",
   "execution_count": null,
   "metadata": {},
   "outputs": [],
   "source": [
    "figure;\n",
    "time_ind = 40\n",
    "subplot(121); imshow(u[:,:,time_ind,1],cmap=ColorMap(\"gray\")); colorbar(shrink=0.4); clim(-0.1,0.1)\n",
    "subplot(122); imshow(u0[:,:,time_ind,1],cmap=ColorMap(\"gray\")); colorbar(shrink=0.4); clim(-0.1,0.1)\n",
    "tight_layout()"
   ]
  },
  {
   "cell_type": "code",
   "execution_count": null,
   "metadata": {},
   "outputs": [],
   "source": [
    "figure;\n",
    "subplot(121); imshow(data[:,:,2],cmap=ColorMap(\"gray\"), aspect=0.1); colorbar(shrink=0.4); clim([-0.01,0.01])\n",
    "xlabel(\"receiver\"); ylabel(\"time (s)\")\n",
    "subplot(122); imshow(data0[:,:,2],cmap=ColorMap(\"gray\"), aspect=0.1); colorbar(shrink=0.4); clim([-0.01,0.01])\n",
    "xlabel(\"receiver\"); ylabel(\"time (s)\")\n",
    "tight_layout()"
   ]
  },
  {
   "cell_type": "code",
   "execution_count": null,
   "metadata": {},
   "outputs": [],
   "source": [
    "op_fn(x) = eval_fn_l2(data0, x, rho, Nx, Ny, Nt, h, dt, source, source_position, receiver_position; save_ratio=save_ratio, pml_len=pml_len, pml_coef=pml_coef)\n",
    "op_grad(x) = eval_grad_l2(data0, x, rho, Nx, Ny, Nt, h, dt, source, source_position, receiver_position; save_ratio=save_ratio, pml_len=pml_len, pml_coef=pml_coef);\n",
    "\n",
    "# @time xx,gg = op_grad(c[:])\n",
    "# @time xx1 = op_fn(c[:])\n",
    "\n",
    "# imshow(reshape(gg, Nx, Ny)); colorbar()"
   ]
  },
  {
   "cell_type": "code",
   "execution_count": 9,
   "metadata": {},
   "outputs": [],
   "source": [
    "# aaa = update_fn(c, 6e-6, gg, 1, 1.2)\n",
    "# imshow(reshape(aaa, Nx, Ny)); colorbar(); clim(1,1.2)"
   ]
  },
  {
   "cell_type": "code",
   "execution_count": 10,
   "metadata": {},
   "outputs": [],
   "source": [
    "# @time data11, u11 = multi_solver_parallel(aaa, rho, Nx, Ny, Nt, h, dt, source, source_position, receiver_position; pml_len=pml_len, pml_coef=pml_coef, save_ratio=save_ratio);\n",
    "# 0.5 * norm(data11 - data0,2) ^ 2"
   ]
  },
  {
   "cell_type": "code",
   "execution_count": 11,
   "metadata": {},
   "outputs": [],
   "source": [
    "# 0.5 * norm(data - data0,2) ^ 2"
   ]
  },
  {
   "cell_type": "code",
   "execution_count": null,
   "metadata": {},
   "outputs": [],
   "source": []
  },
  {
   "cell_type": "code",
   "execution_count": 12,
   "metadata": {},
   "outputs": [],
   "source": [
    "# xx_gd, ff_gd = gradient_descent(op_fn, op_grad, c[:], 1e-5, 4, 1, 1.1; rho=0.5, c=1e-10, maxSearchTime=10, threshold=1e-5);"
   ]
  },
  {
   "cell_type": "code",
   "execution_count": 13,
   "metadata": {},
   "outputs": [],
   "source": [
    "# matwrite(\"FWI_1_L2_GD.mat\", Dict(\"xx\" => xx_gd,\"ff\" => ff_gd,\"c\"=>c,\"c0\"=>c0); compress = false)"
   ]
  },
  {
   "cell_type": "code",
   "execution_count": 14,
   "metadata": {},
   "outputs": [],
   "source": [
    "# imshow(reshape(xx_gd,Nx,Ny)); colorbar(shrink=0.3)"
   ]
  },
  {
   "cell_type": "code",
   "execution_count": 15,
   "metadata": {},
   "outputs": [
    {
     "name": "stdout",
     "output_type": "stream",
     "text": [
      "Main iteration: 1\n",
      "Start line search. fk: 3.31077e+01\n",
      "    alpha: 6.00000e-06    fk1: 7.21472e+00    fk-c*alpha*gradk^2: 3.31031e+01\n",
      "Line search succeed. Search time: 0.\n",
      "----------------------------------------------------------------\n",
      "Start LBFGS.\n",
      "----------------------------------------------------------------\n",
      "Main iteration: 2\n",
      "Start line search. fk: 7.21472e+00\n",
      "    alpha: 1.00000e+00    fk1: 3.70450e+01    fk-c*alpha*gradk^2: 7.21472e+00\n",
      "    alpha: 9.00000e-01    fk1: 3.53549e+01    fk-c*alpha*gradk^2: 7.21472e+00\n",
      "    alpha: 8.10000e-01    fk1: 3.35830e+01    fk-c*alpha*gradk^2: 7.21472e+00\n",
      "    alpha: 7.29000e-01    fk1: 3.17368e+01    fk-c*alpha*gradk^2: 7.21472e+00\n",
      "    alpha: 6.56100e-01    fk1: 2.98239e+01    fk-c*alpha*gradk^2: 7.21472e+00\n",
      "    alpha: 5.90490e-01    fk1: 2.78945e+01    fk-c*alpha*gradk^2: 7.21472e+00\n",
      "Line search failed. Search time: 5. Try to decrease search coef c.\n",
      "----------------------------------------------------------------\n",
      "Line search Failed. Try decrease line search coef alpha. Interupt.\n",
      "----------------------------------------------------------------\n"
     ]
    }
   ],
   "source": [
    "xx_ll, ff_ll = LBFGS(op_fn, op_grad, c[:], 6e-6, 3, 1, 1.2; m=5, alpha_search=1, rho=0.9, c=1e-10, maxSearchTime=5, threshold=1e-10);"
   ]
  },
  {
   "cell_type": "code",
   "execution_count": null,
   "metadata": {},
   "outputs": [],
   "source": [
    "imshow(reshape(xx_ll,Nx,Ny)); colorbar(shrink=0.3)"
   ]
  },
  {
   "cell_type": "code",
   "execution_count": null,
   "metadata": {},
   "outputs": [],
   "source": []
  }
 ],
 "metadata": {
  "kernelspec": {
   "display_name": "Julia 1.2.0",
   "language": "julia",
   "name": "julia-1.2"
  },
  "language_info": {
   "file_extension": ".jl",
   "mimetype": "application/julia",
   "name": "julia",
   "version": "1.2.0"
  }
 },
 "nbformat": 4,
 "nbformat_minor": 4
}
